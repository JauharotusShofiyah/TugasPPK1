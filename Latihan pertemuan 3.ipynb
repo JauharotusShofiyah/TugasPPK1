{
 "cells": [
  {
   "cell_type": "markdown",
   "id": "78df134f-ac07-4eb4-95c8-004daec9a0e1",
   "metadata": {},
   "source": [
    "#### JAUHAROTUS SHOFIYAH_200601110005"
   ]
  },
  {
   "cell_type": "markdown",
   "id": "ec5f4994-9b29-4d30-9bec-0e8e7ee75cd2",
   "metadata": {},
   "source": [
    "## LATIHAN"
   ]
  },
  {
   "cell_type": "markdown",
   "id": "3d0a3828-c10e-4c6f-a9a7-17aab6dd0d63",
   "metadata": {},
   "source": [
    "#### 1. Buatlah program untuk menginputkan dua buah bilangan bulat, kemudian mencetak salah satu bilangan yang nilainya terbesar!"
   ]
  },
  {
   "cell_type": "markdown",
   "id": "3113ea09-c589-47a1-aa6a-3a3052181936",
   "metadata": {},
   "source": [
    "Menggunakan algoritma 4.4, maka:"
   ]
  },
  {
   "cell_type": "code",
   "execution_count": 2,
   "id": "7b92eb7e-ddcf-4fb6-8fde-611fa54cfa92",
   "metadata": {},
   "outputs": [],
   "source": [
    "def maks(a,b):\n",
    "    if a>b:\n",
    "            return a\n",
    "    else:\n",
    "            return b"
   ]
  },
  {
   "cell_type": "code",
   "execution_count": 3,
   "id": "8af1b96f-dbad-4773-8332-44e7ba7035d1",
   "metadata": {},
   "outputs": [
    {
     "data": {
      "text/plain": [
       "17"
      ]
     },
     "execution_count": 3,
     "metadata": {},
     "output_type": "execute_result"
    }
   ],
   "source": [
    "maks(17,11)"
   ]
  },
  {
   "cell_type": "code",
   "execution_count": 4,
   "id": "b2bb93ce-de80-4cfc-b036-4826ece3e38b",
   "metadata": {},
   "outputs": [
    {
     "data": {
      "text/plain": [
       "99"
      ]
     },
     "execution_count": 4,
     "metadata": {},
     "output_type": "execute_result"
    }
   ],
   "source": [
    "maks(91,99)"
   ]
  },
  {
   "cell_type": "markdown",
   "id": "a1b9011a-2a05-4628-bcb3-83c6b05ea031",
   "metadata": {},
   "source": [
    "Menggunakan contidional if-else, maka:"
   ]
  },
  {
   "cell_type": "code",
   "execution_count": 15,
   "id": "e08324ea-c523-46ee-a5f4-8e2ed5472195",
   "metadata": {},
   "outputs": [
    {
     "name": "stdin",
     "output_type": "stream",
     "text": [
      "masukkan nilai a:  17\n",
      "masukkan nilai b:  11\n"
     ]
    },
    {
     "name": "stdout",
     "output_type": "stream",
     "text": [
      "nilai terbesar: a\n"
     ]
    }
   ],
   "source": [
    "a = input(\"masukkan nilai a: \")\n",
    "b = input(\"masukkan nilai b: \")\n",
    "\n",
    "if a>b:\n",
    "    print(\"nilai terbesar: a\")\n",
    "else:\n",
    "    print(\"nilai terbesar: b\")"
   ]
  },
  {
   "cell_type": "markdown",
   "id": "6b497ae7-a820-4735-910a-3e61fb34ea09",
   "metadata": {},
   "source": [
    "#### 2. Pada akhir semester seorang dosen menghitung nilai akhir dari mahasiswa yang terdiri dari nilai uas, uts, kuis, dan tugas. Nilai akhir didapatkan dari 40% nilai uas, 30% nilai uts, 10% nilai kuis, dan 20% nilai tugas. Jika nilai akhir dari mahasiswa di bawah 65 maka mahasiswa tersebut akan mendapatkan remidi. Buatlah program untuk membantu mengetahui mahasiswa yang mendapatkan remidi berdasarkan nilai akhir yang didapatkannya!"
   ]
  },
  {
   "cell_type": "code",
   "execution_count": 7,
   "id": "9c76b7ce-6cad-41e8-a7da-8d5ee65ebda3",
   "metadata": {},
   "outputs": [
    {
     "name": "stdin",
     "output_type": "stream",
     "text": [
      "nilai UAS:   90\n",
      "nilai UTS:  86\n",
      "nilai Kuis:  88\n",
      "nilai Tugas:  92\n"
     ]
    },
    {
     "name": "stdout",
     "output_type": "stream",
     "text": [
      "Selamat anda LULUS!\n"
     ]
    }
   ],
   "source": [
    "a = int(input(\"nilai UAS: \"))\n",
    "b = int(input(\"nilai UTS: \"))\n",
    "c = int(input(\"nilai Kuis: \"))\n",
    "d = int(input(\"nilai Tugas: \"))\n",
    "\n",
    "NA = (a*40+b*30+c*10+d*20)/100\n",
    "\n",
    "if NA < 65:\n",
    "    print(\"Anda harus REMIDI!\")\n",
    "else:\n",
    "    print(\"Selamat anda LULUS!\")"
   ]
  },
  {
   "cell_type": "markdown",
   "id": "556c6a5d-ca0a-4e0d-b3c2-d6d1310f38d2",
   "metadata": {},
   "source": [
    "#### 3. Buatlah program kalkulator sederhana menggunakan Python. User akan memasukkan dua buah bilangan riil dan satu buah operator aritmatika (+, -, *, atau /), kemudian program akan mengoperasikan dua bilangan tersebut dengan operator yang sesuai."
   ]
  },
  {
   "cell_type": "code",
   "execution_count": 14,
   "id": "1319a043-8bf3-4f40-982b-cb5f3dc2362e",
   "metadata": {},
   "outputs": [
    {
     "name": "stdin",
     "output_type": "stream",
     "text": [
      "Masukkan bilangan pertama:  24\n",
      "Masukkan operator (+,-,*,/):  /\n",
      "Masukkan bilangan kedua:  3\n"
     ]
    },
    {
     "name": "stdout",
     "output_type": "stream",
     "text": [
      "Hasil operasi dari 24.0/3.0 = 8.0\n"
     ]
    }
   ],
   "source": [
    "a = float(input(\"Masukkan bilangan pertama: \"))\n",
    "b = input(\"Masukkan operator (+,-,*,/): \")\n",
    "c = float(input(\"Masukkan bilangan kedua: \"))\n",
    "\n",
    "if b == \"+\":\n",
    "    hasil = a+c\n",
    "    print(f\"Hasil operasi dari {a}+{c} = {hasil}\")\n",
    "elif b == \"-\":\n",
    "    hasil = a-c\n",
    "    print(f\"Hasil operasi dari {a}-{c} = {hasil}\")\n",
    "elif b == \"*\":\n",
    "    hasil = a*c\n",
    "    print(f\"Hasil operasi dari {a}*{c} = {hasil}\")\n",
    "elif b == \"/\":\n",
    "    hasil = a/c\n",
    "    print(f\"Hasil operasi dari {a}/{c} = {hasil}\")\n",
    "else:\n",
    "    print(\"Tidak valid\")"
   ]
  }
 ],
 "metadata": {
  "kernelspec": {
   "display_name": "Python 3 (ipykernel)",
   "language": "python",
   "name": "python3"
  },
  "language_info": {
   "codemirror_mode": {
    "name": "ipython",
    "version": 3
   },
   "file_extension": ".py",
   "mimetype": "text/x-python",
   "name": "python",
   "nbconvert_exporter": "python",
   "pygments_lexer": "ipython3",
   "version": "3.10.2"
  }
 },
 "nbformat": 4,
 "nbformat_minor": 5
}
