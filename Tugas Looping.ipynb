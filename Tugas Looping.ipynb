{
 "cells": [
  {
   "cell_type": "markdown",
   "id": "4367ad04-d599-4819-ac7c-ac18640a4128",
   "metadata": {},
   "source": [
    "### JAUHAROTUS SHOFIYAH_200601110005"
   ]
  },
  {
   "cell_type": "markdown",
   "id": "32eab2db-515d-469b-a704-6bbba228731e",
   "metadata": {},
   "source": [
    "### TUGAS LOOPING"
   ]
  },
  {
   "cell_type": "markdown",
   "id": "e1af0def-ba73-4549-b681-65d70aff5db6",
   "metadata": {},
   "source": [
    "##### 1. Buatlah program yang meminta masukan user sebuah bilangan bulat N dimana (N > 0). Program kemudian menampilkan penjumlahan N bilangan genap positif pertama (bilangan genap ≥ 0)."
   ]
  },
  {
   "cell_type": "code",
   "execution_count": 4,
   "id": "7dd50720-f96d-4871-862d-109b00f0c91c",
   "metadata": {},
   "outputs": [
    {
     "name": "stdin",
     "output_type": "stream",
     "text": [
      "Masukkan N:  4\n"
     ]
    },
    {
     "name": "stdout",
     "output_type": "stream",
     "text": [
      "Bilangan genap positif: \n",
      "0\n",
      "2\n",
      "4\n",
      "6\n",
      "Penjumlahan bilangan genap positif:  12\n"
     ]
    }
   ],
   "source": [
    "a = 0\n",
    "sum = 0\n",
    "i = 1\n",
    "\n",
    "N = int(input(\"Masukkan N: \"))\n",
    "print(\"Bilangan genap positif: \")\n",
    "while True:\n",
    "    sum += a\n",
    "    print(a)\n",
    "    a += 2\n",
    "    i = i+1\n",
    "    if i > N:\n",
    "        break\n",
    "print(\"Penjumlahan bilangan genap positif: \", sum)"
   ]
  },
  {
   "cell_type": "markdown",
   "id": "b595a513-2285-4b56-944d-1af45754a47d",
   "metadata": {},
   "source": [
    "##### 2. Buatlah sebuah program yang meminta masukan user sebuah bilangan bulat N dimana (N > 0). Kemudian, program menampilkan penjumlahan N bilangan kuadrat pertama. Bilangan kuadrat adalah = 1, 4, 9, 16, 25, 36, ...., N^2."
   ]
  },
  {
   "cell_type": "code",
   "execution_count": 7,
   "id": "a507c644-efce-4ec3-9175-7d2ca1b74fc6",
   "metadata": {},
   "outputs": [
    {
     "name": "stdin",
     "output_type": "stream",
     "text": [
      "Masukkan N:  4\n"
     ]
    },
    {
     "name": "stdout",
     "output_type": "stream",
     "text": [
      "Deret bilangan kuadrat: \n",
      "1 4 9 16 maka, hasil penjumlahan bilangan kuadratnya:  30\n"
     ]
    }
   ],
   "source": [
    "i, N, sum=1, 0, 0\n",
    "\n",
    "N = int(input(\"Masukkan N: \"))\n",
    "print(\"Deret bilangan kuadrat: \")\n",
    "while True:\n",
    "    sum += i*i\n",
    "    print(i*i, end=\" \")\n",
    "    i += 1\n",
    "    if i > N:\n",
    "        break\n",
    "print(\"maka, hasil penjumlahan bilangan kuadratnya: \", sum)"
   ]
  },
  {
   "cell_type": "markdown",
   "id": "e472102d-a23c-41ad-9c01-d5d5cd2622ee",
   "metadata": {},
   "source": [
    "##### 3. Buatlah sebuah program yang meminta masukan user sebuah bilangan bulat N dimana (N > 0). Program kemudian memeriksa setiap digit yang ada di angka tersebut, dan menampilkan berapa jumlah digit yang ganjil dari bilangan N tersebut."
   ]
  },
  {
   "cell_type": "code",
   "execution_count": 8,
   "id": "caaf02d6-6c36-45d0-807f-4ee636584e31",
   "metadata": {},
   "outputs": [
    {
     "name": "stdin",
     "output_type": "stream",
     "text": [
      "Masukkan N:  478837229\n"
     ]
    },
    {
     "name": "stdout",
     "output_type": "stream",
     "text": [
      "Jumlah digit yang ganjil:  4\n"
     ]
    }
   ],
   "source": [
    "N = input(\"Masukkan N: \")\n",
    "ganjil = 0\n",
    "a = \" \"\n",
    "for i in N:\n",
    "    if i in \"1,3,5,7,9\":\n",
    "        ganjil += 1\n",
    "        a = a+i+\" \"\n",
    "print(\"Jumlah digit yang ganjil: \", ganjil)"
   ]
  }
 ],
 "metadata": {
  "kernelspec": {
   "display_name": "Python 3 (ipykernel)",
   "language": "python",
   "name": "python3"
  },
  "language_info": {
   "codemirror_mode": {
    "name": "ipython",
    "version": 3
   },
   "file_extension": ".py",
   "mimetype": "text/x-python",
   "name": "python",
   "nbconvert_exporter": "python",
   "pygments_lexer": "ipython3",
   "version": "3.10.2"
  }
 },
 "nbformat": 4,
 "nbformat_minor": 5
}
