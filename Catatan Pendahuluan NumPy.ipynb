{
 "cells": [
  {
   "cell_type": "markdown",
   "id": "1416f4a0-a099-4b4f-90e8-119f7423c68c",
   "metadata": {},
   "source": [
    "### Jauharotus Shofiyah_200601110005"
   ]
  },
  {
   "cell_type": "markdown",
   "id": "c668246b-8227-49da-9ce6-d7e470a475d9",
   "metadata": {},
   "source": [
    "# Pendahuluan NumPy"
   ]
  },
  {
   "cell_type": "markdown",
   "id": "51c56cbd-6b9e-445d-810a-eabf974f9a72",
   "metadata": {},
   "source": [
    "## 5.1 Pendahuluan"
   ]
  },
  {
   "cell_type": "markdown",
   "id": "60e75e66-37f6-4263-b84d-6b630fe5239a",
   "metadata": {},
   "source": [
    "Contoh:"
   ]
  },
  {
   "cell_type": "code",
   "execution_count": 1,
   "id": "e5061559-9593-41bf-b37c-59efdf8314e7",
   "metadata": {},
   "outputs": [
    {
     "data": {
      "text/plain": [
       "array([[ 0,  1,  2,  3,  4],\n",
       "       [ 5,  6,  7,  8,  9],\n",
       "       [10, 11, 12, 13, 14]])"
      ]
     },
     "execution_count": 1,
     "metadata": {},
     "output_type": "execute_result"
    }
   ],
   "source": [
    "import numpy as np\n",
    "a = np.arange(15).reshape(3,5)\n",
    "a"
   ]
  },
  {
   "cell_type": "code",
   "execution_count": 2,
   "id": "3acff721-4c92-48d4-a87c-9862b334daea",
   "metadata": {},
   "outputs": [
    {
     "data": {
      "text/plain": [
       "(3, 5)"
      ]
     },
     "execution_count": 2,
     "metadata": {},
     "output_type": "execute_result"
    }
   ],
   "source": [
    "a.shape"
   ]
  },
  {
   "cell_type": "code",
   "execution_count": 3,
   "id": "3f1fef1c-bbd5-457e-9df3-c6f413e11234",
   "metadata": {},
   "outputs": [
    {
     "data": {
      "text/plain": [
       "2"
      ]
     },
     "execution_count": 3,
     "metadata": {},
     "output_type": "execute_result"
    }
   ],
   "source": [
    "a.ndim"
   ]
  },
  {
   "cell_type": "code",
   "execution_count": 4,
   "id": "45f75b2b-eea1-4f04-814e-86b30bd86636",
   "metadata": {},
   "outputs": [
    {
     "data": {
      "text/plain": [
       "'int32'"
      ]
     },
     "execution_count": 4,
     "metadata": {},
     "output_type": "execute_result"
    }
   ],
   "source": [
    "a.dtype.name"
   ]
  },
  {
   "cell_type": "code",
   "execution_count": 5,
   "id": "7949e2e3-f300-43d1-aa80-e2cdb81c86ab",
   "metadata": {},
   "outputs": [
    {
     "data": {
      "text/plain": [
       "4"
      ]
     },
     "execution_count": 5,
     "metadata": {},
     "output_type": "execute_result"
    }
   ],
   "source": [
    "a.itemsize"
   ]
  },
  {
   "cell_type": "code",
   "execution_count": 6,
   "id": "0fe205e8-268a-41c5-a5ee-d3938d0300aa",
   "metadata": {},
   "outputs": [
    {
     "data": {
      "text/plain": [
       "15"
      ]
     },
     "execution_count": 6,
     "metadata": {},
     "output_type": "execute_result"
    }
   ],
   "source": [
    "a.size"
   ]
  },
  {
   "cell_type": "code",
   "execution_count": 7,
   "id": "fe660edd-d301-49cd-86d2-f2be469488c7",
   "metadata": {},
   "outputs": [
    {
     "data": {
      "text/plain": [
       "numpy.ndarray"
      ]
     },
     "execution_count": 7,
     "metadata": {},
     "output_type": "execute_result"
    }
   ],
   "source": [
    "type(a)"
   ]
  },
  {
   "cell_type": "code",
   "execution_count": 8,
   "id": "ac919804-a906-4b8a-a6e4-ada6f0244ece",
   "metadata": {},
   "outputs": [
    {
     "data": {
      "text/plain": [
       "array([6, 7, 8])"
      ]
     },
     "execution_count": 8,
     "metadata": {},
     "output_type": "execute_result"
    }
   ],
   "source": [
    "b = np.array([6, 7, 8])\n",
    "b"
   ]
  },
  {
   "cell_type": "code",
   "execution_count": 9,
   "id": "eddf65c9-ebf1-465e-b30d-d3d55fc0e729",
   "metadata": {},
   "outputs": [
    {
     "data": {
      "text/plain": [
       "numpy.ndarray"
      ]
     },
     "execution_count": 9,
     "metadata": {},
     "output_type": "execute_result"
    }
   ],
   "source": [
    "type(b)"
   ]
  },
  {
   "cell_type": "markdown",
   "id": "c41c929c-4e30-45ca-a0f7-04ea34bf8274",
   "metadata": {},
   "source": [
    "## 5.2 Membuat Array"
   ]
  },
  {
   "cell_type": "markdown",
   "id": "cc4f3946-b89f-4502-9227-c32318af0994",
   "metadata": {},
   "source": [
    "Ada beberapa cara untuk membuat array. Misalnya, Anda dapat membuat array dari list Python biasa atau pasangan menggunakan fungsi array. Tipe array yang dihasilkan disimpulkan dari tipe elemen dalam array."
   ]
  },
  {
   "cell_type": "code",
   "execution_count": 10,
   "id": "7c4e62f0-4f3d-424f-8f86-6a7fef8e5f84",
   "metadata": {},
   "outputs": [
    {
     "data": {
      "text/plain": [
       "array([2, 3, 4])"
      ]
     },
     "execution_count": 10,
     "metadata": {},
     "output_type": "execute_result"
    }
   ],
   "source": [
    "import numpy as np\n",
    "a = np.array ([2,3,4])\n",
    "a"
   ]
  },
  {
   "cell_type": "code",
   "execution_count": 11,
   "id": "13c912d2-4621-4215-86be-19e51899c8ba",
   "metadata": {},
   "outputs": [
    {
     "data": {
      "text/plain": [
       "dtype('int32')"
      ]
     },
     "execution_count": 11,
     "metadata": {},
     "output_type": "execute_result"
    }
   ],
   "source": [
    "a.dtype"
   ]
  },
  {
   "cell_type": "code",
   "execution_count": 13,
   "id": "8c02aa92-f385-4721-9cf0-4b2eebfb4c20",
   "metadata": {},
   "outputs": [
    {
     "data": {
      "text/plain": [
       "dtype('float64')"
      ]
     },
     "execution_count": 13,
     "metadata": {},
     "output_type": "execute_result"
    }
   ],
   "source": [
    "b = np.array ([1.2, 3.5, 5.1])\n",
    "b.dtype"
   ]
  },
  {
   "cell_type": "markdown",
   "id": "8557cdf2-e13b-4396-b7c7-38864829e547",
   "metadata": {},
   "source": [
    "Array mengubah barisan dari sebuah barisan menjadi array dua dimensi, barisan dari barisan sebuah barisan menjadi array tiga dimensi, dan seterusnya."
   ]
  },
  {
   "cell_type": "code",
   "execution_count": 14,
   "id": "358d74c3-7a04-48c6-9352-738fabcee1cc",
   "metadata": {},
   "outputs": [
    {
     "data": {
      "text/plain": [
       "array([[1.5, 2. , 3. ],\n",
       "       [4. , 5. , 6. ]])"
      ]
     },
     "execution_count": 14,
     "metadata": {},
     "output_type": "execute_result"
    }
   ],
   "source": [
    "b = np.array([(1.5 ,2 ,3),(4 ,5 ,6)])\n",
    "b"
   ]
  },
  {
   "cell_type": "markdown",
   "id": "314aff9f-a914-4a22-bea4-fc592b936ddb",
   "metadata": {},
   "source": [
    "Jenis array juga dapat secara eksplisit ditentukan pada saat pembuatan:"
   ]
  },
  {
   "cell_type": "code",
   "execution_count": 15,
   "id": "79d0c238-ffcf-420d-a165-083db9cbbbba",
   "metadata": {},
   "outputs": [
    {
     "data": {
      "text/plain": [
       "array([[1.+0.j, 2.+0.j],\n",
       "       [3.+0.j, 4.+0.j]])"
      ]
     },
     "execution_count": 15,
     "metadata": {},
     "output_type": "execute_result"
    }
   ],
   "source": [
    "c = np.array([[1,2], [3,4]], dtype = complex)\n",
    "c"
   ]
  },
  {
   "cell_type": "markdown",
   "id": "a3bb7047-cce8-4ebe-9f35-80f9c91847d4",
   "metadata": {},
   "source": [
    "Fungsi zeros menciptakan sebuah array yang berisi angka nol, fungsi onesyang menciptakan array yang berisi angka satu, dan fungsi empty menciptakan array yang isinya acak dan bergantung pada keadaan memori."
   ]
  },
  {
   "cell_type": "code",
   "execution_count": 16,
   "id": "92a8329a-a47f-4f28-a800-83ad20e05f78",
   "metadata": {},
   "outputs": [
    {
     "data": {
      "text/plain": [
       "array([[0., 0., 0., 0.],\n",
       "       [0., 0., 0., 0.],\n",
       "       [0., 0., 0., 0.]])"
      ]
     },
     "execution_count": 16,
     "metadata": {},
     "output_type": "execute_result"
    }
   ],
   "source": [
    "np.zeros((3,4))"
   ]
  },
  {
   "cell_type": "code",
   "execution_count": 18,
   "id": "88ab2f28-a894-4bd6-9a9f-58593ff8d907",
   "metadata": {},
   "outputs": [
    {
     "data": {
      "text/plain": [
       "array([[[1, 1, 1, 1],\n",
       "        [1, 1, 1, 1],\n",
       "        [1, 1, 1, 1]],\n",
       "\n",
       "       [[1, 1, 1, 1],\n",
       "        [1, 1, 1, 1],\n",
       "        [1, 1, 1, 1]]], dtype=int16)"
      ]
     },
     "execution_count": 18,
     "metadata": {},
     "output_type": "execute_result"
    }
   ],
   "source": [
    "np.ones((2,3,4), dtype=np.int16)"
   ]
  },
  {
   "cell_type": "code",
   "execution_count": 21,
   "id": "0305c1d3-b0c8-4ac4-8221-55e296a64ca2",
   "metadata": {},
   "outputs": [
    {
     "data": {
      "text/plain": [
       "array([[1.5, 2. , 3. ],\n",
       "       [4. , 5. , 6. ]])"
      ]
     },
     "execution_count": 21,
     "metadata": {},
     "output_type": "execute_result"
    }
   ],
   "source": [
    "np.empty((2,3)) # uninitialized , output may vary"
   ]
  },
  {
   "cell_type": "markdown",
   "id": "17be0fa6-0681-41ac-a024-9bdfb1154256",
   "metadata": {},
   "source": [
    "Untuk membuat barisan angka, NumPy menyediakan fungsi yang mirip dengan range yang outputnya berupa array dan bukan berupa list."
   ]
  },
  {
   "cell_type": "code",
   "execution_count": 20,
   "id": "db8d3055-4677-4564-a741-dd2cee66c8e1",
   "metadata": {},
   "outputs": [
    {
     "data": {
      "text/plain": [
       "array([10, 15, 20, 25])"
      ]
     },
     "execution_count": 20,
     "metadata": {},
     "output_type": "execute_result"
    }
   ],
   "source": [
    "np.arange(10,30,5)"
   ]
  },
  {
   "cell_type": "code",
   "execution_count": 22,
   "id": "7fe23ac5-dc27-49d6-a2f1-3d2ed96d4429",
   "metadata": {},
   "outputs": [
    {
     "data": {
      "text/plain": [
       "array([0. , 0.3, 0.6, 0.9, 1.2, 1.5, 1.8])"
      ]
     },
     "execution_count": 22,
     "metadata": {},
     "output_type": "execute_result"
    }
   ],
   "source": [
    "np.arange(0,2,0.3)  # it accepts float arguments"
   ]
  },
  {
   "cell_type": "markdown",
   "id": "5f7a6940-4b7a-4cd0-b480-3970abf7f471",
   "metadata": {},
   "source": [
    "Lebih baik jika arange menggunakan fungsi linspace yang dapat menerima masukan berapa jumlah elemen yang kita inginkan:"
   ]
  },
  {
   "cell_type": "code",
   "execution_count": 25,
   "id": "392bd36f-bf00-4a58-813a-22d6f5df6adb",
   "metadata": {},
   "outputs": [
    {
     "data": {
      "text/plain": [
       "array([0.  , 0.25, 0.5 , 0.75, 1.  , 1.25, 1.5 , 1.75, 2.  ])"
      ]
     },
     "execution_count": 25,
     "metadata": {},
     "output_type": "execute_result"
    }
   ],
   "source": [
    "from numpy import pi\n",
    "np.linspace(0,2,9)  #9 numbers from 0 to 2"
   ]
  },
  {
   "cell_type": "code",
   "execution_count": 27,
   "id": "1a4c3fe3-3664-49cc-91eb-911d28f66ef9",
   "metadata": {},
   "outputs": [],
   "source": [
    "x = np.linspace(0,2*pi,100)  # useful to evaluate function at lots of points\n",
    "f = np.sin(x)"
   ]
  },
  {
   "cell_type": "markdown",
   "id": "2f488061-4008-4492-b6d3-e874375ab6b2",
   "metadata": {},
   "source": [
    "## 5.3 Menampilkan Array"
   ]
  },
  {
   "cell_type": "markdown",
   "id": "0317b3a2-b691-4c63-b2fd-de60020f87cf",
   "metadata": {},
   "source": [
    "Array satu dimensi dicetak sebagai baris, array dua dimensi sebagai matriks dan tridimensionals sebagai daftar matriks."
   ]
  },
  {
   "cell_type": "code",
   "execution_count": 29,
   "id": "a22725cc-6728-4204-9e59-f427e118cb1d",
   "metadata": {},
   "outputs": [
    {
     "name": "stdout",
     "output_type": "stream",
     "text": [
      "[0 1 2 3 4 5]\n"
     ]
    }
   ],
   "source": [
    "a = np.arange(6) #1d array\n",
    "print(a)"
   ]
  },
  {
   "cell_type": "code",
   "execution_count": 30,
   "id": "bf278db6-a865-476c-adfc-2f0d51c8e504",
   "metadata": {},
   "outputs": [
    {
     "name": "stdout",
     "output_type": "stream",
     "text": [
      "[[ 0  1  2]\n",
      " [ 3  4  5]\n",
      " [ 6  7  8]\n",
      " [ 9 10 11]]\n"
     ]
    }
   ],
   "source": [
    "b = np.arange(12).reshape(4,3) #2d array\n",
    "print(b)"
   ]
  },
  {
   "cell_type": "code",
   "execution_count": 31,
   "id": "90e8d800-196b-4112-a1c7-65c049450c76",
   "metadata": {},
   "outputs": [
    {
     "name": "stdout",
     "output_type": "stream",
     "text": [
      "[[[ 0  1  2  3]\n",
      "  [ 4  5  6  7]\n",
      "  [ 8  9 10 11]]\n",
      "\n",
      " [[12 13 14 15]\n",
      "  [16 17 18 19]\n",
      "  [20 21 22 23]]]\n"
     ]
    }
   ],
   "source": [
    "c = np.arange(24).reshape(2,3,4) #3d array\n",
    "print(c)"
   ]
  },
  {
   "cell_type": "markdown",
   "id": "f9e39089-d4c4-49da-8e2e-1cf944b7b778",
   "metadata": {},
   "source": [
    "Jika array terlalu besar untuk ditampilkan, NumPy secara otomatis memotong bagian tengah array dan hanya mencetak ujung-ujungnya:"
   ]
  },
  {
   "cell_type": "code",
   "execution_count": 33,
   "id": "e6b7af14-101b-4630-b063-2ab00996a2a9",
   "metadata": {},
   "outputs": [
    {
     "name": "stdout",
     "output_type": "stream",
     "text": [
      "[   0    1    2 ... 9997 9998 9999]\n"
     ]
    }
   ],
   "source": [
    "print(np.arange(10000))"
   ]
  },
  {
   "cell_type": "code",
   "execution_count": 34,
   "id": "09bd2c8f-0aeb-4444-a2bf-d99b9366dd66",
   "metadata": {},
   "outputs": [
    {
     "name": "stdout",
     "output_type": "stream",
     "text": [
      "[[   0    1    2 ...   97   98   99]\n",
      " [ 100  101  102 ...  197  198  199]\n",
      " [ 200  201  202 ...  297  298  299]\n",
      " ...\n",
      " [9700 9701 9702 ... 9797 9798 9799]\n",
      " [9800 9801 9802 ... 9897 9898 9899]\n",
      " [9900 9901 9902 ... 9997 9998 9999]]\n"
     ]
    }
   ],
   "source": [
    "print(np.arange(10000).reshape(100,100))"
   ]
  },
  {
   "cell_type": "markdown",
   "id": "92ff1696-4755-4c49-a64a-606bd7975b71",
   "metadata": {},
   "source": [
    "Untuk memaksa NumPy mencetak seluruh bagian array, kita dapat mengubah opsi print menggunakan set_printoptions."
   ]
  },
  {
   "cell_type": "code",
   "execution_count": 36,
   "id": "908c2852-9f0a-4508-9742-d2659e35d1bc",
   "metadata": {},
   "outputs": [
    {
     "data": {
      "text/plain": [
       "<function numpy.set_printoptions(precision=None, threshold=None, edgeitems=None, linewidth=None, suppress=None, nanstr=None, infstr=None, formatter=None, sign=None, floatmode=None, *, legacy=None)>"
      ]
     },
     "execution_count": 36,
     "metadata": {},
     "output_type": "execute_result"
    }
   ],
   "source": [
    "np.set_printoptions"
   ]
  }
 ],
 "metadata": {
  "kernelspec": {
   "display_name": "Python 3 (ipykernel)",
   "language": "python",
   "name": "python3"
  },
  "language_info": {
   "codemirror_mode": {
    "name": "ipython",
    "version": 3
   },
   "file_extension": ".py",
   "mimetype": "text/x-python",
   "name": "python",
   "nbconvert_exporter": "python",
   "pygments_lexer": "ipython3",
   "version": "3.10.2"
  }
 },
 "nbformat": 4,
 "nbformat_minor": 5
}
