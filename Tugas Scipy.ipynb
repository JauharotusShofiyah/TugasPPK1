{
 "cells": [
  {
   "cell_type": "markdown",
   "id": "c08706b8-f423-478a-ab6d-bd15a79c61dd",
   "metadata": {},
   "source": [
    "#### JAUHAROTUS SHOFIYAH_200601110005"
   ]
  },
  {
   "cell_type": "markdown",
   "id": "990318cb-f484-4a06-9751-0a9ab038b76d",
   "metadata": {},
   "source": [
    "# Latihan Scipy"
   ]
  },
  {
   "cell_type": "code",
   "execution_count": 1,
   "id": "44710a96-89fe-4e05-8dad-692fb9a06bac",
   "metadata": {},
   "outputs": [],
   "source": [
    "from sympy import *\n",
    "init_printing()\n",
    "\n",
    "x,y = symbols('x y')"
   ]
  },
  {
   "cell_type": "markdown",
   "id": "91091a32-ed97-47a9-9a74-2a4422d7b35e",
   "metadata": {},
   "source": [
    "#### 1. Hasil dari integral $2sin(4x+9)dx$"
   ]
  },
  {
   "cell_type": "code",
   "execution_count": 2,
   "id": "2286829f-6d11-444e-bc40-ef1821ecb9c9",
   "metadata": {},
   "outputs": [
    {
     "data": {
      "image/png": "[encoded data removed]",
      "text/latex": [
       "$\\displaystyle - \\frac{\\cos{\\left(4 x + 9 \\right)}}{2}$"
      ],
      "text/plain": [
       "-cos(4⋅x + 9) \n",
       "──────────────\n",
       "      2       "
      ]
     },
     "execution_count": 2,
     "metadata": {},
     "output_type": "execute_result"
    }
   ],
   "source": [
    "integrate(2*sin(4*x + 9))"
   ]
  },
  {
   "cell_type": "markdown",
   "id": "ba32c675-5775-4e05-8dad-7e6866c1f4af",
   "metadata": {},
   "source": [
    "#### 2. Hasil dari limit dari $(2x-4x^2)$ untuk $x$ mendekati $-1$"
   ]
  },
  {
   "cell_type": "code",
   "execution_count": 3,
   "id": "f1838537-f4e3-473a-8c8b-dffd1d6e5bac",
   "metadata": {},
   "outputs": [
    {
     "data": {
      "image/png": "[encoded data removed]",
      "text/latex": [
       "$\\displaystyle -6$"
      ],
      "text/plain": [
       "-6"
      ]
     },
     "execution_count": 3,
     "metadata": {},
     "output_type": "execute_result"
    }
   ],
   "source": [
    "limit(2*x - 4*x**2, x, -1)"
   ]
  },
  {
   "cell_type": "markdown",
   "id": "d9b5e2e0-e88e-4a35-8d2c-d4ef35bdacd5",
   "metadata": {},
   "source": [
    "#### 3. Turunan Pertama fungsi $f(x)=x^2+cos(x)$"
   ]
  },
  {
   "cell_type": "code",
   "execution_count": 4,
   "id": "26951791-0925-42ee-a642-def15e5969eb",
   "metadata": {},
   "outputs": [
    {
     "data": {
      "image/png": "[encoded data removed]",
      "text/latex": [
       "$\\displaystyle 2 x - \\sin{\\left(x \\right)}$"
      ],
      "text/plain": [
       "2⋅x - sin(x)"
      ]
     },
     "execution_count": 4,
     "metadata": {},
     "output_type": "execute_result"
    }
   ],
   "source": [
    "diff(x**2 + cos(x), x)"
   ]
  },
  {
   "cell_type": "markdown",
   "id": "1a82600f-f462-4a73-a514-e792df3fe984",
   "metadata": {},
   "source": [
    "#### 4. Hasil dari integral $ln(1+x^2)dx$"
   ]
  },
  {
   "cell_type": "code",
   "execution_count": 5,
   "id": "f3d9fa44-323a-430e-a5f2-19a71778c8ae",
   "metadata": {},
   "outputs": [
    {
     "data": {
      "image/png": "[encoded data removed]",
      "text/latex": [
       "$\\displaystyle x \\log{\\left(x^{2} + 1 \\right)} - 2 x + 2 \\operatorname{atan}{\\left(x \\right)}$"
      ],
      "text/plain": [
       "     ⎛ 2    ⎞                  \n",
       "x⋅log⎝x  + 1⎠ - 2⋅x + 2⋅atan(x)"
      ]
     },
     "execution_count": 5,
     "metadata": {},
     "output_type": "execute_result"
    }
   ],
   "source": [
    "integrate(ln(1 + x**2))"
   ]
  },
  {
   "cell_type": "markdown",
   "id": "2bae4bfe-b388-4fe5-8522-171a8848337a",
   "metadata": {},
   "source": [
    "#### 5. Hasil dari $√64$"
   ]
  },
  {
   "cell_type": "code",
   "execution_count": 7,
   "id": "7d7cc7d5-fd88-4b8c-80a1-01d8321069b6",
   "metadata": {},
   "outputs": [
    {
     "data": {
      "image/png": "[encoded data removed]",
      "text/latex": [
       "$\\displaystyle 8$"
      ],
      "text/plain": [
       "8"
      ]
     },
     "execution_count": 7,
     "metadata": {},
     "output_type": "execute_result"
    }
   ],
   "source": [
    "import sympy\n",
    "sympy.sqrt(64)"
   ]
  }
 ],
 "metadata": {
  "kernelspec": {
   "display_name": "Python 3 (ipykernel)",
   "language": "python",
   "name": "python3"
  },
  "language_info": {
   "codemirror_mode": {
    "name": "ipython",
    "version": 3
   },
   "file_extension": ".py",
   "mimetype": "text/x-python",
   "name": "python",
   "nbconvert_exporter": "python",
   "pygments_lexer": "ipython3",
   "version": "3.10.2"
  }
 },
 "nbformat": 4,
 "nbformat_minor": 5
}
