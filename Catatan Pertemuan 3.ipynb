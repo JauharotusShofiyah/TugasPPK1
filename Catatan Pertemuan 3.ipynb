{
 "cells": [
  {
   "cell_type": "markdown",
   "id": "644302df-5eff-4975-9336-892b40a57ffe",
   "metadata": {},
   "source": [
    "# Catatan Pertemuan 3"
   ]
  },
  {
   "cell_type": "markdown",
   "id": "cdedcca4-a4ed-41d9-a823-dadba4950116",
   "metadata": {},
   "source": [
    "Sebelumnya sempat dibahas untuk bab FUNGSI"
   ]
  },
  {
   "cell_type": "markdown",
   "id": "e8142d5e-2739-463c-bc09-adadf801bc74",
   "metadata": {},
   "source": [
    "#### Algorithm 4.1 (Fungsi Global)"
   ]
  },
  {
   "cell_type": "code",
   "execution_count": 1,
   "id": "f17a827e-4aeb-408e-ba6a-28a64fb310ec",
   "metadata": {},
   "outputs": [],
   "source": [
    "def kali(a,b):\n",
    "    c=a*b\n",
    "    return c #mengembalikan nilai ke baris pemanggil"
   ]
  },
  {
   "cell_type": "code",
   "execution_count": 2,
   "id": "36fdbbd2-2e00-470a-9194-ed46880d47d3",
   "metadata": {},
   "outputs": [],
   "source": [
    "def tulis (s):\n",
    "    print(s)"
   ]
  },
  {
   "cell_type": "code",
   "execution_count": 3,
   "id": "4ac9ee64-17ac-4835-a466-7f3c78dc5635",
   "metadata": {},
   "outputs": [
    {
     "data": {
      "text/plain": [
       "50"
      ]
     },
     "execution_count": 3,
     "metadata": {},
     "output_type": "execute_result"
    }
   ],
   "source": [
    "z=kali(10,5)\n",
    "z"
   ]
  },
  {
   "cell_type": "code",
   "execution_count": 4,
   "id": "6a0537fa-db9a-4caa-bce1-20e81b5962bf",
   "metadata": {},
   "outputs": [
    {
     "name": "stdout",
     "output_type": "stream",
     "text": [
      "Pemrograman Komputer I dengan Python\n"
     ]
    }
   ],
   "source": [
    "tulis ('Pemrograman Komputer I dengan Python')"
   ]
  },
  {
   "cell_type": "code",
   "execution_count": 5,
   "id": "82d9ebe2-c8de-4845-9f9d-a9e7547a9ddf",
   "metadata": {},
   "outputs": [
    {
     "name": "stdout",
     "output_type": "stream",
     "text": [
      "50\n"
     ]
    }
   ],
   "source": [
    "tulis(z)"
   ]
  },
  {
   "cell_type": "markdown",
   "id": "fceba920-90b6-438d-a98e-d5b2cf3f99c0",
   "metadata": {},
   "source": [
    "##### Tambahan"
   ]
  },
  {
   "cell_type": "code",
   "execution_count": 6,
   "id": "0ff51ac6-930e-41be-8244-f6efd1ca540a",
   "metadata": {},
   "outputs": [
    {
     "name": "stdout",
     "output_type": "stream",
     "text": [
      "90.0\n"
     ]
    }
   ],
   "source": [
    "q=4.5\n",
    "y=20\n",
    "print (q*y)"
   ]
  },
  {
   "cell_type": "code",
   "execution_count": 7,
   "id": "46d10c63-a592-40e4-b503-22bc8dfed98b",
   "metadata": {},
   "outputs": [
    {
     "name": "stdout",
     "output_type": "stream",
     "text": [
      "JAUHAROTUS SHOFIYAH\n"
     ]
    }
   ],
   "source": [
    "nama=\"JAUHAROTUS SHOFIYAH\"\n",
    "def halo():\n",
    "    print(nama)\n",
    "halo()"
   ]
  },
  {
   "cell_type": "markdown",
   "id": "9b506745-be86-48d8-9733-61007c624665",
   "metadata": {},
   "source": [
    "#### Algorithm 4.2 (Fungsi Lokal)"
   ]
  },
  {
   "cell_type": "code",
   "execution_count": 8,
   "id": "159490ea-84a9-4f71-b2fb-e8b482c5b36f",
   "metadata": {},
   "outputs": [],
   "source": [
    "def persentase(a,b,c):\n",
    "    def hitungPersen (x):\n",
    "        total=a+b+c\n",
    "        return(x*100.0)/total\n",
    "    print(\"Persentase:%f\\t%f\\t%f\"%(hitungPersen(a),hitungPersen(b),hitungPersen(c)))"
   ]
  },
  {
   "cell_type": "code",
   "execution_count": 9,
   "id": "cccafbbb-c958-47fd-a5a3-64c2c762f324",
   "metadata": {},
   "outputs": [
    {
     "name": "stdout",
     "output_type": "stream",
     "text": [
      "Persentase:33.333333\t33.333333\t33.333333\n"
     ]
    }
   ],
   "source": [
    "persentase(50,50,50)"
   ]
  },
  {
   "cell_type": "code",
   "execution_count": 10,
   "id": "28e3e16d-64ca-409d-9cbe-49f6c3730349",
   "metadata": {},
   "outputs": [
    {
     "name": "stdout",
     "output_type": "stream",
     "text": [
      "Persentase:20.000000\t60.000000\t20.000000\n"
     ]
    }
   ],
   "source": [
    "persentase(30,90,30)"
   ]
  },
  {
   "cell_type": "markdown",
   "id": "e8b359bb-8866-45c5-b698-da7053fe0a2b",
   "metadata": {},
   "source": [
    "#### Algorithm 4.3 (Fungsi Lambda)"
   ]
  },
  {
   "cell_type": "code",
   "execution_count": 11,
   "id": "8c32c91f-9a14-47fc-a783-d4590373fedb",
   "metadata": {},
   "outputs": [
    {
     "data": {
      "text/plain": [
       "20"
      ]
     },
     "execution_count": 11,
     "metadata": {},
     "output_type": "execute_result"
    }
   ],
   "source": [
    "maks = lambda a,b: a if a>b else b\n",
    "maks(20,10)"
   ]
  },
  {
   "cell_type": "code",
   "execution_count": 12,
   "id": "9b753257-854b-4982-916c-2d02592dddb6",
   "metadata": {},
   "outputs": [
    {
     "data": {
      "text/plain": [
       "200"
      ]
     },
     "execution_count": 12,
     "metadata": {},
     "output_type": "execute_result"
    }
   ],
   "source": [
    "maks(100,200)"
   ]
  },
  {
   "cell_type": "markdown",
   "id": "3df2be98-65e5-4b86-9595-fc27e00c1dee",
   "metadata": {},
   "source": [
    "#### Algorithm 4.4"
   ]
  },
  {
   "cell_type": "code",
   "execution_count": 13,
   "id": "46f6315a-7edb-4532-ba6c-66382bd3734d",
   "metadata": {},
   "outputs": [],
   "source": [
    "def maks(a,b):\n",
    "    if a>b:\n",
    "            return a\n",
    "    else:\n",
    "            return b"
   ]
  },
  {
   "cell_type": "code",
   "execution_count": 14,
   "id": "9f5448e5-23b1-4d06-b2ed-44e0891c3da1",
   "metadata": {},
   "outputs": [
    {
     "data": {
      "text/plain": [
       "30"
      ]
     },
     "execution_count": 14,
     "metadata": {},
     "output_type": "execute_result"
    }
   ],
   "source": [
    "maks(17,30)"
   ]
  },
  {
   "cell_type": "code",
   "execution_count": 15,
   "id": "d65b1b6a-7a8c-49e3-b4cb-e557192ff2b3",
   "metadata": {},
   "outputs": [
    {
     "data": {
      "text/plain": [
       "918"
      ]
     },
     "execution_count": 15,
     "metadata": {},
     "output_type": "execute_result"
    }
   ],
   "source": [
    "maks(670,918)"
   ]
  },
  {
   "cell_type": "markdown",
   "id": "7dbd30f3-a6a4-4622-945e-42a228abf79e",
   "metadata": {},
   "source": [
    "#### Algorithm 4.5"
   ]
  },
  {
   "cell_type": "code",
   "execution_count": 16,
   "id": "56712fba-e957-4e45-9d05-86befdbecd54",
   "metadata": {},
   "outputs": [],
   "source": [
    "def tulis (s, gantibaris=True):\n",
    "    if not gantibaris:\n",
    "        print(s, end='')\n",
    "    else:\n",
    "        print(s)"
   ]
  },
  {
   "cell_type": "code",
   "execution_count": 17,
   "id": "c01bafbf-8760-44fa-9252-2191a8bb38c2",
   "metadata": {},
   "outputs": [
    {
     "name": "stdout",
     "output_type": "stream",
     "text": [
      "Phyton\n"
     ]
    }
   ],
   "source": [
    "tulis('Phyton')"
   ]
  },
  {
   "cell_type": "code",
   "execution_count": 18,
   "id": "a422ca3a-526b-4ddf-90fd-bd251b118905",
   "metadata": {},
   "outputs": [
    {
     "name": "stdout",
     "output_type": "stream",
     "text": [
      "Phyton dan Ruby\n"
     ]
    }
   ],
   "source": [
    "tulis('Phyton',False);tulis(' dan Ruby')"
   ]
  },
  {
   "cell_type": "code",
   "execution_count": 19,
   "id": "a5e9d9e1-d4e2-421f-931b-6dea74a2f319",
   "metadata": {},
   "outputs": [
    {
     "name": "stdout",
     "output_type": "stream",
     "text": [
      "Phyton\n",
      "Ruby\n"
     ]
    }
   ],
   "source": [
    "tulis('Phyton');tulis('Ruby')"
   ]
  },
  {
   "cell_type": "markdown",
   "id": "00e3d1ce-5040-412d-902e-69656061491c",
   "metadata": {},
   "source": [
    "## CONTROL FLOW"
   ]
  },
  {
   "cell_type": "markdown",
   "id": "c5471c0b-2be4-4ffa-bd9d-92e7005d5b08",
   "metadata": {},
   "source": [
    "### Ekspresi Boolean"
   ]
  },
  {
   "cell_type": "markdown",
   "id": "81079c7d-e599-4780-8ef9-0c273e29f852",
   "metadata": {},
   "source": [
    "Sebuah ekspresi Boolean adalah ekspresi yang bernilai true atau false. Ekspresi ini digunakan untuk membandingkan dua nilai atau variabel (operand)."
   ]
  },
  {
   "cell_type": "code",
   "execution_count": 21,
   "id": "b452358b-2809-472d-8fec-c2f8f24a28ba",
   "metadata": {},
   "outputs": [
    {
     "data": {
      "text/plain": [
       "True"
      ]
     },
     "execution_count": 21,
     "metadata": {},
     "output_type": "execute_result"
    }
   ],
   "source": [
    "5 == 5"
   ]
  },
  {
   "cell_type": "code",
   "execution_count": 22,
   "id": "f1650970-b6c5-487f-902a-5bfc83045a57",
   "metadata": {},
   "outputs": [
    {
     "data": {
      "text/plain": [
       "False"
      ]
     },
     "execution_count": 22,
     "metadata": {},
     "output_type": "execute_result"
    }
   ],
   "source": [
    "5 == 6"
   ]
  },
  {
   "cell_type": "markdown",
   "id": "dbbde928-0437-4cd9-821a-4714c1931d50",
   "metadata": {},
   "source": [
    "### Conditional Execution"
   ]
  },
  {
   "cell_type": "markdown",
   "id": "27c5e476-daf0-4d1b-9062-2fbc572d0fc0",
   "metadata": {},
   "source": [
    "Pada saat membuat sebuah program, kadangkala kita membutuhkan pemilihan pernyataan mana yang akan dijalankan oleh komputer. Kemampuan pemilihan perintah inilah yang disebut conditional statement. Ada beberapa conditional statement yang akan dibahas pada catatan ini, yaitu:"
   ]
  },
  {
   "cell_type": "markdown",
   "id": "eed0874d-4dc8-4111-9b06-5eb2b8b78678",
   "metadata": {},
   "source": [
    "#### Conditional if"
   ]
  },
  {
   "cell_type": "markdown",
   "id": "fd56a896-69f7-421d-b425-9106cc2c0a5d",
   "metadata": {},
   "source": [
    "Conditional if digunakan untuk memilih apakah sebuah pernyataan akan dijalankan atau tidak sesuai kondisi yang diberikan."
   ]
  },
  {
   "cell_type": "code",
   "execution_count": 27,
   "id": "c2050a6a-dc88-46e9-ba23-99e18310c792",
   "metadata": {},
   "outputs": [
    {
     "name": "stdin",
     "output_type": "stream",
     "text": [
      "Masukkan nilai Anda:  88\n"
     ]
    },
    {
     "name": "stdout",
     "output_type": "stream",
     "text": [
      "Anda lulus ujian! SELAMAT!\n"
     ]
    }
   ],
   "source": [
    "nilai = input(\"Masukkan nilai Anda: \")\n",
    "\n",
    "if int(nilai) >= 70:\n",
    "    print(\"Anda lulus ujian! SELAMAT!\")"
   ]
  },
  {
   "cell_type": "markdown",
   "id": "b24d2dca-ea1a-4002-81ea-ba4b6ea4a022",
   "metadata": {},
   "source": [
    "#### Conditional if-else"
   ]
  },
  {
   "cell_type": "markdown",
   "id": "68c1ccb8-6ba2-4dc1-91e9-9be18f8cead9",
   "metadata": {
    "jupyter": {
     "source_hidden": true
    },
    "tags": []
   },
   "source": [
    "Conditional if-else digunakan untuk memilih pernyataan mana yang akan dijalankan dari 2 pernyataan sesuai kondisi yang diberikan."
   ]
  },
  {
   "cell_type": "code",
   "execution_count": 25,
   "id": "bd55faef-ba54-4141-8931-bcd9bba35e26",
   "metadata": {},
   "outputs": [
    {
     "name": "stdin",
     "output_type": "stream",
     "text": [
      "Masukkan nilai Anda:  66\n"
     ]
    },
    {
     "name": "stdout",
     "output_type": "stream",
     "text": [
      "Anda belum lulus ujian!\n"
     ]
    }
   ],
   "source": [
    "nilai = input(\"Masukkan nilai Anda: \")\n",
    "\n",
    "if int(nilai) >= 70:\n",
    "    print(\"Anda lulus ujian! SELAMAT!\")\n",
    "else:\n",
    "    print(\"Anda belum lulus ujian!\")"
   ]
  },
  {
   "cell_type": "markdown",
   "id": "441a9fd1-75fa-47f3-a70d-02d112f3dd31",
   "metadata": {},
   "source": [
    "#### Conditional if-elif-else"
   ]
  },
  {
   "cell_type": "markdown",
   "id": "9376092b-3f2f-4d91-97b2-405a6831221a",
   "metadata": {},
   "source": [
    "Conditional if-elif-else digunakan untuk memilih pernyataan mana yang akan dijalankan dengan beberapa kondisi pengecekan."
   ]
  },
  {
   "cell_type": "code",
   "execution_count": 29,
   "id": "399f7f10-33bb-4780-972a-018abfb8793f",
   "metadata": {},
   "outputs": [
    {
     "name": "stdin",
     "output_type": "stream",
     "text": [
      "Masukkan nilai Anda:  75\n"
     ]
    },
    {
     "name": "stdout",
     "output_type": "stream",
     "text": [
      "Anda lulus ujian! SELAMAT!\n"
     ]
    }
   ],
   "source": [
    "nilai = input(\"Masukkan nilai Anda: \")\n",
    "\n",
    "if int(nilai) < 0 or int(nilai) > 100:\n",
    "    print(\"Nilai Anda TIDAK valid\")\n",
    "elif int(nilai) >= 70:\n",
    "    print(\"Anda lulus ujian! SELAMAT!\")\n",
    "else:\n",
    "    print(\"Anda belum lulus ujian!\")"
   ]
  },
  {
   "cell_type": "code",
   "execution_count": 30,
   "id": "ac9c6bc9-ebf0-4fe5-b03b-356cbbc546ec",
   "metadata": {},
   "outputs": [
    {
     "name": "stdin",
     "output_type": "stream",
     "text": [
      "Masukkan nilai Anda:  112\n"
     ]
    },
    {
     "name": "stdout",
     "output_type": "stream",
     "text": [
      "Nilai Anda TIDAK valid\n"
     ]
    }
   ],
   "source": [
    "nilai = input(\"Masukkan nilai Anda: \")\n",
    "\n",
    "if int(nilai) < 0 or int(nilai) > 100:\n",
    "    print(\"Nilai Anda TIDAK valid\")\n",
    "elif int(nilai) >= 70:\n",
    "    print(\"Anda lulus ujian! SELAMAT!\")\n",
    "else:\n",
    "    print(\"Anda belum lulus ujian!\")"
   ]
  }
 ],
 "metadata": {
  "kernelspec": {
   "display_name": "Python 3 (ipykernel)",
   "language": "python",
   "name": "python3"
  },
  "language_info": {
   "codemirror_mode": {
    "name": "ipython",
    "version": 3
   },
   "file_extension": ".py",
   "mimetype": "text/x-python",
   "name": "python",
   "nbconvert_exporter": "python",
   "pygments_lexer": "ipython3",
   "version": "3.10.2"
  }
 },
 "nbformat": 4,
 "nbformat_minor": 5
}
